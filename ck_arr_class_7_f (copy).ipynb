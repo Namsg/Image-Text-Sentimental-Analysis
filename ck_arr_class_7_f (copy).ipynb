{
 "cells": [
  {
   "cell_type": "code",
   "execution_count": 1,
   "metadata": {},
   "outputs": [
    {
     "name": "stderr",
     "output_type": "stream",
     "text": [
      "2022-05-25 12:44:14.721370: W tensorflow/stream_executor/platform/default/dso_loader.cc:64] Could not load dynamic library 'libcudart.so.11.0'; dlerror: libcudart.so.11.0: cannot open shared object file: No such file or directory\n",
      "2022-05-25 12:44:14.721399: I tensorflow/stream_executor/cuda/cudart_stub.cc:29] Ignore above cudart dlerror if you do not have a GPU set up on your machine.\n"
     ]
    }
   ],
   "source": [
    "from numpy.random import seed\n",
    "seed(1)\n",
    "import tensorflow\n",
    "tensorflow.random.set_seed(2)"
   ]
  },
  {
   "cell_type": "code",
   "execution_count": 2,
   "metadata": {},
   "outputs": [],
   "source": [
    "import numpy as np\n",
    "import pandas as pd\n",
    "import os\n",
    "import cv2\n",
    "import tensorflow as tf\n",
    "\n",
    "from tensorflow.keras import optimizers\n",
    "from tensorflow.keras.models import Sequential\n",
    "from tensorflow.keras.layers import Dropout, BatchNormalization, LeakyReLU, Activation\n",
    "from tensorflow.keras.preprocessing.image import ImageDataGenerator, load_img\n",
    "from keras.layers import Conv2D, Dense, BatchNormalization, Activation, Dropout, MaxPooling2D, Flatten\n",
    "from tensorflow.keras.layers import Conv2D, Flatten, MaxPooling2D, Dropout, Activation, Dense\n",
    "from tensorflow.keras.layers import BatchNormalization\n",
    "from tensorflow.keras.optimizers import Adam, RMSprop, SGD\n",
    "from tensorflow.keras import regularizers\n",
    "from tensorflow.keras.callbacks import ModelCheckpoint, CSVLogger, TensorBoard, EarlyStopping, ReduceLROnPlateau\n",
    "import datetime\n",
    "import matplotlib.pyplot as plt\n",
    "from tensorflow.keras.utils import plot_model\n",
    "import math\n",
    "\n",
    "# import scikitplot\n",
    "import seaborn as sns\n",
    "from matplotlib import pyplot\n",
    "\n",
    "from sklearn.model_selection import train_test_split\n",
    "from sklearn.preprocessing import LabelEncoder\n",
    "from sklearn.metrics import classification_report\n",
    "\n",
    "\n",
    "from keras.utils import np_utils"
   ]
  },
  {
   "cell_type": "code",
   "execution_count": 3,
   "metadata": {},
   "outputs": [],
   "source": [
    "img = cv2.imread(\"/home/naman/Documents/image_dataset/train/positive/S042_001_00000018.png\")"
   ]
  },
  {
   "cell_type": "code",
   "execution_count": 4,
   "metadata": {
    "scrolled": true
   },
   "outputs": [
    {
     "data": {
      "text/plain": [
       "<matplotlib.image.AxesImage at 0x7f4fd5a5d1c0>"
      ]
     },
     "execution_count": 4,
     "metadata": {},
     "output_type": "execute_result"
    },
    {
     "data": {
      "image/png": "[encoded data removed]",
      "text/plain": [
       "<Figure size 432x288 with 1 Axes>"
      ]
     },
     "metadata": {
      "needs_background": "light"
     },
     "output_type": "display_data"
    }
   ],
   "source": [
    "plt.imshow(img)"
   ]
  },
  {
   "cell_type": "code",
   "execution_count": 5,
   "metadata": {},
   "outputs": [],
   "source": [
    "img = cv2.imread(\"/home/naman/Documents/image_dataset/train/negative/S005_001_00000009.png\")"
   ]
  },
  {
   "cell_type": "code",
   "execution_count": 6,
   "metadata": {
    "scrolled": true
   },
   "outputs": [
    {
     "data": {
      "text/plain": [
       "<matplotlib.image.AxesImage at 0x7f4fd51ba130>"
      ]
     },
     "execution_count": 6,
     "metadata": {},
     "output_type": "execute_result"
    },
    {
     "data": {
      "image/png": "[encoded data removed]",
      "text/plain": [
       "<Figure size 432x288 with 1 Axes>"
      ]
     },
     "metadata": {
      "needs_background": "light"
     },
     "output_type": "display_data"
    }
   ],
   "source": [
    "plt.imshow(img)"
   ]
  },
  {
   "cell_type": "code",
   "execution_count": 7,
   "metadata": {},
   "outputs": [
    {
     "data": {
      "text/plain": [
       "(48, 48, 3)"
      ]
     },
     "execution_count": 7,
     "metadata": {},
     "output_type": "execute_result"
    }
   ],
   "source": [
    "img.shape"
   ]
  },
  {
   "cell_type": "code",
   "execution_count": 8,
   "metadata": {},
   "outputs": [],
   "source": [
    "data_path = '/home/naman/Documents/image_dataset/train/'\n",
    "#TEST_PATH = 'data/fer2013_cls3/test/'\n",
    "\n",
    "row, col = 48, 48\n",
    "classes = 2"
   ]
  },
  {
   "cell_type": "code",
   "execution_count": 9,
   "metadata": {},
   "outputs": [],
   "source": [
    "\n",
    "def count_image(data_path):\n",
    "    total_images = 0\n",
    "    for directory in os.listdir(data_path):\n",
    "        count =0\n",
    "        for f in os.listdir(data_path + '/'+ directory + '/'):\n",
    "            count +=1\n",
    "            total_images +=1\n",
    "            \n",
    "        print(f\"{directory} has {count} number images\")\n",
    "        \n",
    "    print(f\"Total number images is {total_images}\")\n",
    "    \n",
    "    return total_images"
   ]
  },
  {
   "cell_type": "code",
   "execution_count": 10,
   "metadata": {},
   "outputs": [
    {
     "name": "stdout",
     "output_type": "stream",
     "text": [
      "negative has 431 number images\n",
      "positive has 457 number images\n",
      "Total number images is 888\n"
     ]
    },
    {
     "data": {
      "text/plain": [
       "888"
      ]
     },
     "execution_count": 10,
     "metadata": {},
     "output_type": "execute_result"
    }
   ],
   "source": [
    "total_images=count_image(data_path)\n",
    "total_images"
   ]
  },
  {
   "cell_type": "code",
   "execution_count": 11,
   "metadata": {},
   "outputs": [],
   "source": [
    "EMOTIONS = ['negative','positive']"
   ]
  },
  {
   "cell_type": "code",
   "execution_count": 12,
   "metadata": {},
   "outputs": [],
   "source": [
    "def image_to_array(total_image, data_path):\n",
    "    image_array = np.empty(shape=(total_images, 48, 48, 3))\n",
    "    image_label = np.empty(shape=(total_images))\n",
    "    label_to_text= {}\n",
    "    \n",
    "    \n",
    "    i = 0\n",
    "    e = 0\n",
    "    \n",
    "    for directory in os.listdir(data_path):\n",
    "#         print(directory)\n",
    "        if directory in EMOTIONS:\n",
    "            label_to_text[e] = directory\n",
    "            \n",
    "            for f in os.listdir(data_path + \"/\"+directory + \"/\"):\n",
    "                \n",
    "                \n",
    "                img = cv2.imread(data_path +  \"/\"+ directory + \"/\" +f)\n",
    "                image_array[i] = img\n",
    "            \n",
    "                plt.imshow(img)\n",
    "                image_label[i]= e\n",
    "                i +=1\n",
    "\n",
    "            print(f\"All images converted to array of {directory} directory\")\n",
    "            \n",
    "            e +=1\n",
    "            \n",
    "    return image_array, image_label, label_to_text"
   ]
  },
  {
   "cell_type": "code",
   "execution_count": 13,
   "metadata": {},
   "outputs": [
    {
     "name": "stdout",
     "output_type": "stream",
     "text": [
      "All images converted to array of negative directory\n",
      "All images converted to array of positive directory\n"
     ]
    },
    {
     "data": {
      "image/png": "[encoded data removed]",
      "text/plain": [
       "<Figure size 432x288 with 1 Axes>"
      ]
     },
     "metadata": {
      "needs_background": "light"
     },
     "output_type": "display_data"
    }
   ],
   "source": [
    "train_image_array, train_image_label, train_label_to_text = image_to_array(total_images, data_path)"
   ]
  },
  {
   "cell_type": "code",
   "execution_count": 14,
   "metadata": {},
   "outputs": [
    {
     "data": {
      "text/plain": [
       "(888, 48, 48, 3)"
      ]
     },
     "execution_count": 14,
     "metadata": {},
     "output_type": "execute_result"
    }
   ],
   "source": [
    "train_image_array.shape"
   ]
  },
  {
   "cell_type": "code",
   "execution_count": 15,
   "metadata": {},
   "outputs": [],
   "source": [
    "def show_some_image(label_to_text, image_array, image_label):\n",
    "    fig = plt.figure(1,(14, 14))\n",
    "    \n",
    "    idx = 0\n",
    "    \n",
    "    for k in label_to_text:\n",
    "        indices = np.random.choice(np.where(image_label==k)[0], size=1, replace=False)\n",
    "        \n",
    "        sample_images = image_array[indices]\n",
    "        \n",
    "        for img in sample_images:\n",
    "            idx += 1\n",
    "            ax = plt.subplot(7,7,idx)\n",
    "            ax.imshow(img[:,:,0], cmap='gray')\n",
    "            ax.set_xticks([])\n",
    "            ax.set_yticks([])\n",
    "            ax.set_title(label_to_text[k])\n",
    "            plt.tight_layout()\n",
    "#         plt.savefig('chart/ck/ck7.png')"
   ]
  },
  {
   "cell_type": "code",
   "execution_count": 16,
   "metadata": {},
   "outputs": [
    {
     "data": {
      "image/png": "[encoded data removed]",
      "text/plain": [
       "<Figure size 1008x1008 with 2 Axes>"
      ]
     },
     "metadata": {},
     "output_type": "display_data"
    }
   ],
   "source": [
    "show_some_image(train_label_to_text, train_image_array, train_image_label)"
   ]
  },
  {
   "cell_type": "code",
   "execution_count": 17,
   "metadata": {},
   "outputs": [],
   "source": [
    "train_image_label_cat = np_utils.to_categorical(train_image_label)"
   ]
  },
  {
   "cell_type": "code",
   "execution_count": 18,
   "metadata": {},
   "outputs": [
    {
     "data": {
      "text/plain": [
       "array([[1., 0.],\n",
       "       [1., 0.],\n",
       "       [1., 0.],\n",
       "       ...,\n",
       "       [0., 1.],\n",
       "       [0., 1.],\n",
       "       [0., 1.]], dtype=float32)"
      ]
     },
     "execution_count": 18,
     "metadata": {},
     "output_type": "execute_result"
    }
   ],
   "source": [
    "train_image_label_cat"
   ]
  },
  {
   "cell_type": "code",
   "execution_count": 19,
   "metadata": {},
   "outputs": [],
   "source": [
    "train_image_array_resize = train_image_array/ 255.0"
   ]
  },
  {
   "cell_type": "markdown",
   "metadata": {},
   "source": [
    "### Training time run below cell"
   ]
  },
  {
   "cell_type": "code",
   "execution_count": 20,
   "metadata": {},
   "outputs": [
    {
     "data": {
      "text/plain": [
       "((710, 48, 48, 3), (178, 48, 48, 3), (710, 2), (178, 2))"
      ]
     },
     "execution_count": 20,
     "metadata": {},
     "output_type": "execute_result"
    }
   ],
   "source": [
    "X_train, X_valid, y_train, y_valid = train_test_split(train_image_array_resize, train_image_label_cat, stratify = train_image_label_cat, shuffle =True, test_size=0.2, random_state= 42)\n",
    "\n",
    "X_train.shape, X_valid.shape, y_train.shape, y_valid.shape"
   ]
  },
  {
   "cell_type": "markdown",
   "metadata": {},
   "source": [
    "### Testing time run below cell"
   ]
  },
  {
   "cell_type": "code",
   "execution_count": 21,
   "metadata": {},
   "outputs": [],
   "source": [
    "# X_train, X_valid, y_train, y_valid = train_test_split(train_image_array_resize, train_image_label_cat, shuffle=False, test_size=0.2, random_state= 42)\n",
    "\n",
    "# X_train.shape, X_valid.shape, y_train.shape, y_valid.shape"
   ]
  },
  {
   "cell_type": "code",
   "execution_count": 22,
   "metadata": {},
   "outputs": [
    {
     "data": {
      "text/plain": [
       "array([[[0.04705882, 0.04705882, 0.04705882],\n",
       "        [0.03921569, 0.03921569, 0.03921569],\n",
       "        [0.01568627, 0.01568627, 0.01568627],\n",
       "        ...,\n",
       "        [0.37254902, 0.37254902, 0.37254902],\n",
       "        [0.36078431, 0.36078431, 0.36078431],\n",
       "        [0.35686275, 0.35686275, 0.35686275]],\n",
       "\n",
       "       [[0.03529412, 0.03529412, 0.03529412],\n",
       "        [0.01960784, 0.01960784, 0.01960784],\n",
       "        [0.01568627, 0.01568627, 0.01568627],\n",
       "        ...,\n",
       "        [0.34509804, 0.34509804, 0.34509804],\n",
       "        [0.3372549 , 0.3372549 , 0.3372549 ],\n",
       "        [0.3372549 , 0.3372549 , 0.3372549 ]],\n",
       "\n",
       "       [[0.03529412, 0.03529412, 0.03529412],\n",
       "        [0.00392157, 0.00392157, 0.00392157],\n",
       "        [0.01176471, 0.01176471, 0.01176471],\n",
       "        ...,\n",
       "        [0.30980392, 0.30980392, 0.30980392],\n",
       "        [0.3372549 , 0.3372549 , 0.3372549 ],\n",
       "        [0.3372549 , 0.3372549 , 0.3372549 ]],\n",
       "\n",
       "       ...,\n",
       "\n",
       "       [[0.29411765, 0.29411765, 0.29411765],\n",
       "        [0.30196078, 0.30196078, 0.30196078],\n",
       "        [0.30588235, 0.30588235, 0.30588235],\n",
       "        ...,\n",
       "        [0.32941176, 0.32941176, 0.32941176],\n",
       "        [0.32941176, 0.32941176, 0.32941176],\n",
       "        [0.32156863, 0.32156863, 0.32156863]],\n",
       "\n",
       "       [[0.29019608, 0.29019608, 0.29019608],\n",
       "        [0.29803922, 0.29803922, 0.29803922],\n",
       "        [0.30196078, 0.30196078, 0.30196078],\n",
       "        ...,\n",
       "        [0.31764706, 0.31764706, 0.31764706],\n",
       "        [0.31764706, 0.31764706, 0.31764706],\n",
       "        [0.31764706, 0.31764706, 0.31764706]],\n",
       "\n",
       "       [[0.29019608, 0.29019608, 0.29019608],\n",
       "        [0.29411765, 0.29411765, 0.29411765],\n",
       "        [0.30196078, 0.30196078, 0.30196078],\n",
       "        ...,\n",
       "        [0.43137255, 0.43137255, 0.43137255],\n",
       "        [0.31764706, 0.31764706, 0.31764706],\n",
       "        [0.30980392, 0.30980392, 0.30980392]]])"
      ]
     },
     "execution_count": 22,
     "metadata": {},
     "output_type": "execute_result"
    }
   ],
   "source": [
    "X_train[0]"
   ]
  },
  {
   "cell_type": "code",
   "execution_count": 23,
   "metadata": {},
   "outputs": [],
   "source": [
    "img_width = X_train.shape[1]\n",
    "img_height = X_train.shape[2]\n",
    "img_depth = X_train.shape[3]\n",
    "num_classes = y_train.shape[1]"
   ]
  },
  {
   "cell_type": "code",
   "execution_count": 34,
   "metadata": {},
   "outputs": [
    {
     "name": "stdout",
     "output_type": "stream",
     "text": [
      "48\n",
      "48\n",
      "3\n",
      "2\n"
     ]
    }
   ],
   "source": [
    "print(img_width)\n",
    "print(img_height)\n",
    "print(img_depth)\n",
    "print(num_classes)"
   ]
  },
  {
   "cell_type": "code",
   "execution_count": 24,
   "metadata": {},
   "outputs": [],
   "source": [
    "# X_train = X_train / 255.\n",
    "# X_valid = X_valid / 255."
   ]
  },
  {
   "cell_type": "code",
   "execution_count": 25,
   "metadata": {},
   "outputs": [],
   "source": [
    "def build_net(optim):\n",
    "   \n",
    "    net = Sequential()\n",
    "\n",
    "    net.add(\n",
    "        Conv2D(\n",
    "            filters=64,\n",
    "            kernel_size=(5,5),\n",
    "            input_shape=(img_width, img_height, img_depth),\n",
    "            activation='elu',\n",
    "            padding='same',\n",
    "            kernel_initializer='he_normal'\n",
    "        )\n",
    "    )\n",
    "    net.add(BatchNormalization())\n",
    "    net.add(\n",
    "        Conv2D(\n",
    "            filters=64,\n",
    "            kernel_size=(5,5),\n",
    "            activation='elu',\n",
    "            padding='same',\n",
    "            kernel_initializer='he_normal'\n",
    "        )\n",
    "    )\n",
    "    net.add(BatchNormalization())\n",
    "    \n",
    "    net.add(MaxPooling2D(pool_size=(2,2)))\n",
    "    net.add(Dropout(0.2))\n",
    "\n",
    "    net.add(\n",
    "        Conv2D(\n",
    "            filters=128,\n",
    "            kernel_size=(3,3),\n",
    "            activation='elu',\n",
    "            padding='same',\n",
    "            kernel_initializer='he_normal'\n",
    "        )\n",
    "    )\n",
    "    net.add(BatchNormalization())\n",
    "    net.add(\n",
    "        Conv2D(\n",
    "            filters=128,\n",
    "            kernel_size=(3,3),\n",
    "            activation='elu',\n",
    "            padding='same',\n",
    "            kernel_initializer='he_normal'\n",
    "        )\n",
    "    )\n",
    "    net.add(BatchNormalization())\n",
    "    \n",
    "    net.add(MaxPooling2D(pool_size=(2,2), ))\n",
    "    net.add(Dropout(0.2))\n",
    "\n",
    "    net.add(\n",
    "        Conv2D(\n",
    "            filters=256,\n",
    "            kernel_size=(3,3),\n",
    "            activation='elu',\n",
    "            padding='same',\n",
    "            kernel_initializer='he_normal'\n",
    "        )\n",
    "    )\n",
    "    net.add(BatchNormalization())\n",
    "    net.add(\n",
    "        Conv2D(\n",
    "            filters=256,\n",
    "            kernel_size=(3,3),\n",
    "            activation='elu',\n",
    "            padding='same',\n",
    "            kernel_initializer='he_normal'\n",
    "        )\n",
    "    )\n",
    "    net.add(BatchNormalization())\n",
    "    \n",
    "    net.add(MaxPooling2D(pool_size=(2,2) ))\n",
    "    net.add(Dropout(0.2))\n",
    "\n",
    "    net.add(Flatten())\n",
    "        \n",
    "    net.add(\n",
    "        Dense(\n",
    "            128,\n",
    "            activation='elu',\n",
    "            kernel_initializer='he_normal'\n",
    "        )\n",
    "    )\n",
    "    net.add(BatchNormalization())\n",
    "    \n",
    "    net.add(Dropout(0.2))\n",
    "    \n",
    "    net.add(\n",
    "        Dense(\n",
    "            num_classes,\n",
    "            activation='sigmoid'\n",
    "        )\n",
    "    )\n",
    "    \n",
    "    net.compile(\n",
    "        loss='binary_crossentropy',\n",
    "        optimizer=optim,\n",
    "        metrics=['accuracy']\n",
    "    )\n",
    "    \n",
    "    net.summary()\n",
    "    \n",
    "    return net"
   ]
  },
  {
   "cell_type": "code",
   "execution_count": 26,
   "metadata": {},
   "outputs": [],
   "source": [
    "\n",
    "early_stopping = EarlyStopping(\n",
    "    monitor='val_accuracy',\n",
    "    min_delta=0.00005,\n",
    "    patience=30,\n",
    "    verbose=1,\n",
    "    restore_best_weights=True,\n",
    ")\n",
    "\n",
    "lr_scheduler = ReduceLROnPlateau(\n",
    "    monitor='val_accuracy',\n",
    "    factor=0.5,\n",
    "    patience=7,\n",
    "    min_lr=1e-7,\n",
    "    verbose=1,\n",
    ")\n",
    "\n",
    "callbacks = [\n",
    "    early_stopping,\n",
    "    lr_scheduler,\n",
    "]"
   ]
  },
  {
   "cell_type": "code",
   "execution_count": 27,
   "metadata": {},
   "outputs": [],
   "source": [
    "# As the data in hand is less as compared to the task so ImageDataGenerator is good to go.\n",
    "train_datagen = ImageDataGenerator(\n",
    "    rotation_range=15,\n",
    "    width_shift_range=0.15,\n",
    "    height_shift_range=0.15,\n",
    "    shear_range=0.15,\n",
    "    zoom_range=0.15,\n",
    "    horizontal_flip=True,\n",
    ")\n",
    "train_datagen.fit(X_train)"
   ]
  },
  {
   "cell_type": "code",
   "execution_count": 28,
   "metadata": {
    "scrolled": true
   },
   "outputs": [
    {
     "name": "stderr",
     "output_type": "stream",
     "text": [
      "2022-05-25 12:44:49.057812: W tensorflow/stream_executor/platform/default/dso_loader.cc:64] Could not load dynamic library 'libcuda.so.1'; dlerror: libcuda.so.1: cannot open shared object file: No such file or directory; LD_LIBRARY_PATH: /home/naman/anaconda3/lib/python3.9/site-packages/cv2/../../lib64:\n",
      "2022-05-25 12:44:49.057863: W tensorflow/stream_executor/cuda/cuda_driver.cc:269] failed call to cuInit: UNKNOWN ERROR (303)\n",
      "2022-05-25 12:44:49.057903: I tensorflow/stream_executor/cuda/cuda_diagnostics.cc:156] kernel driver does not appear to be running on this host (naman-HP-ProDesk-600-G3-MT): /proc/driver/nvidia/version does not exist\n",
      "2022-05-25 12:44:49.083548: I tensorflow/core/platform/cpu_feature_guard.cc:151] This TensorFlow binary is optimized with oneAPI Deep Neural Network Library (oneDNN) to use the following CPU instructions in performance-critical operations:  AVX2 FMA\n",
      "To enable them in other operations, rebuild TensorFlow with the appropriate compiler flags.\n"
     ]
    },
    {
     "name": "stdout",
     "output_type": "stream",
     "text": [
      "Model: \"sequential\"\n",
      "_________________________________________________________________\n",
      " Layer (type)                Output Shape              Param #   \n",
      "=================================================================\n",
      " conv2d (Conv2D)             (None, 48, 48, 64)        4864      \n",
      "                                                                 \n",
      " batch_normalization (BatchN  (None, 48, 48, 64)       256       \n",
      " ormalization)                                                   \n",
      "                                                                 \n",
      " conv2d_1 (Conv2D)           (None, 48, 48, 64)        102464    \n",
      "                                                                 \n",
      " batch_normalization_1 (Batc  (None, 48, 48, 64)       256       \n",
      " hNormalization)                                                 \n",
      "                                                                 \n",
      " max_pooling2d (MaxPooling2D  (None, 24, 24, 64)       0         \n",
      " )                                                               \n",
      "                                                                 \n",
      " dropout (Dropout)           (None, 24, 24, 64)        0         \n",
      "                                                                 \n",
      " conv2d_2 (Conv2D)           (None, 24, 24, 128)       73856     \n",
      "                                                                 \n",
      " batch_normalization_2 (Batc  (None, 24, 24, 128)      512       \n",
      " hNormalization)                                                 \n",
      "                                                                 \n",
      " conv2d_3 (Conv2D)           (None, 24, 24, 128)       147584    \n",
      "                                                                 \n",
      " batch_normalization_3 (Batc  (None, 24, 24, 128)      512       \n",
      " hNormalization)                                                 \n",
      "                                                                 \n",
      " max_pooling2d_1 (MaxPooling  (None, 12, 12, 128)      0         \n",
      " 2D)                                                             \n",
      "                                                                 \n",
      " dropout_1 (Dropout)         (None, 12, 12, 128)       0         \n",
      "                                                                 \n",
      " conv2d_4 (Conv2D)           (None, 12, 12, 256)       295168    \n",
      "                                                                 \n",
      " batch_normalization_4 (Batc  (None, 12, 12, 256)      1024      \n",
      " hNormalization)                                                 \n",
      "                                                                 \n",
      " conv2d_5 (Conv2D)           (None, 12, 12, 256)       590080    \n",
      "                                                                 \n",
      " batch_normalization_5 (Batc  (None, 12, 12, 256)      1024      \n",
      " hNormalization)                                                 \n",
      "                                                                 \n",
      " max_pooling2d_2 (MaxPooling  (None, 6, 6, 256)        0         \n",
      " 2D)                                                             \n",
      "                                                                 \n",
      " dropout_2 (Dropout)         (None, 6, 6, 256)         0         \n",
      "                                                                 \n",
      " flatten (Flatten)           (None, 9216)              0         \n",
      "                                                                 \n",
      " dense (Dense)               (None, 128)               1179776   \n",
      "                                                                 \n",
      " batch_normalization_6 (Batc  (None, 128)              512       \n",
      " hNormalization)                                                 \n",
      "                                                                 \n",
      " dropout_3 (Dropout)         (None, 128)               0         \n",
      "                                                                 \n",
      " dense_1 (Dense)             (None, 2)                 258       \n",
      "                                                                 \n",
      "=================================================================\n",
      "Total params: 2,398,146\n",
      "Trainable params: 2,396,098\n",
      "Non-trainable params: 2,048\n",
      "_________________________________________________________________\n"
     ]
    }
   ],
   "source": [
    "batch_size = 40 #batch size of 32 performs the best.\n",
    "epochs = 60\n",
    "optims = [\n",
    "    optimizers.Nadam(learning_rate=0.001, beta_1=0.9, beta_2=0.999, epsilon=1e-07),\n",
    "    optimizers.Adam(0.001),\n",
    "]\n",
    "\n",
    "# I tried both `Nadam` and `Adam`, the difference in results is not different but I finally went with Adam as it is more popular.\n",
    "model = build_net(optims[1]) \n"
   ]
  },
  {
   "cell_type": "code",
   "execution_count": 29,
   "metadata": {
    "scrolled": true
   },
   "outputs": [
    {
     "name": "stdout",
     "output_type": "stream",
     "text": [
      "Model: \"sequential\"\n",
      "_________________________________________________________________\n",
      " Layer (type)                Output Shape              Param #   \n",
      "=================================================================\n",
      " conv2d (Conv2D)             (None, 48, 48, 64)        4864      \n",
      "                                                                 \n",
      " batch_normalization (BatchN  (None, 48, 48, 64)       256       \n",
      " ormalization)                                                   \n",
      "                                                                 \n",
      " conv2d_1 (Conv2D)           (None, 48, 48, 64)        102464    \n",
      "                                                                 \n",
      " batch_normalization_1 (Batc  (None, 48, 48, 64)       256       \n",
      " hNormalization)                                                 \n",
      "                                                                 \n",
      " max_pooling2d (MaxPooling2D  (None, 24, 24, 64)       0         \n",
      " )                                                               \n",
      "                                                                 \n",
      " dropout (Dropout)           (None, 24, 24, 64)        0         \n",
      "                                                                 \n",
      " conv2d_2 (Conv2D)           (None, 24, 24, 128)       73856     \n",
      "                                                                 \n",
      " batch_normalization_2 (Batc  (None, 24, 24, 128)      512       \n",
      " hNormalization)                                                 \n",
      "                                                                 \n",
      " conv2d_3 (Conv2D)           (None, 24, 24, 128)       147584    \n",
      "                                                                 \n",
      " batch_normalization_3 (Batc  (None, 24, 24, 128)      512       \n",
      " hNormalization)                                                 \n",
      "                                                                 \n",
      " max_pooling2d_1 (MaxPooling  (None, 12, 12, 128)      0         \n",
      " 2D)                                                             \n",
      "                                                                 \n",
      " dropout_1 (Dropout)         (None, 12, 12, 128)       0         \n",
      "                                                                 \n",
      " conv2d_4 (Conv2D)           (None, 12, 12, 256)       295168    \n",
      "                                                                 \n",
      " batch_normalization_4 (Batc  (None, 12, 12, 256)      1024      \n",
      " hNormalization)                                                 \n",
      "                                                                 \n",
      " conv2d_5 (Conv2D)           (None, 12, 12, 256)       590080    \n",
      "                                                                 \n",
      " batch_normalization_5 (Batc  (None, 12, 12, 256)      1024      \n",
      " hNormalization)                                                 \n",
      "                                                                 \n",
      " max_pooling2d_2 (MaxPooling  (None, 6, 6, 256)        0         \n",
      " 2D)                                                             \n",
      "                                                                 \n",
      " dropout_2 (Dropout)         (None, 6, 6, 256)         0         \n",
      "                                                                 \n",
      " flatten (Flatten)           (None, 9216)              0         \n",
      "                                                                 \n",
      " dense (Dense)               (None, 128)               1179776   \n",
      "                                                                 \n",
      " batch_normalization_6 (Batc  (None, 128)              512       \n",
      " hNormalization)                                                 \n",
      "                                                                 \n",
      " dropout_3 (Dropout)         (None, 128)               0         \n",
      "                                                                 \n",
      " dense_1 (Dense)             (None, 2)                 258       \n",
      "                                                                 \n",
      "=================================================================\n",
      "Total params: 2,398,146\n",
      "Trainable params: 2,396,098\n",
      "Non-trainable params: 2,048\n",
      "_________________________________________________________________\n"
     ]
    }
   ],
   "source": [
    "stringlist = []\n",
    "model.summary(print_fn=lambda x: stringlist.append(x))\n",
    "short_model_summary = \"\\n\".join(stringlist)\n",
    "print(short_model_summary)"
   ]
  },
  {
   "cell_type": "code",
   "execution_count": 31,
   "metadata": {},
   "outputs": [
    {
     "name": "stdout",
     "output_type": "stream",
     "text": [
      "Collecting pydot\n",
      "  Downloading pydot-1.4.2-py2.py3-none-any.whl (21 kB)\n",
      "Requirement already satisfied: pyparsing>=2.1.4 in ./lib/python3.9/site-packages (from pydot) (3.0.4)\n",
      "Installing collected packages: pydot\n",
      "Successfully installed pydot-1.4.2\n"
     ]
    }
   ],
   "source": [
    "!pip install pydot"
   ]
  },
  {
   "cell_type": "code",
   "execution_count": 32,
   "metadata": {},
   "outputs": [
    {
     "name": "stdout",
     "output_type": "stream",
     "text": [
      "You must install pydot (`pip install pydot`) and install graphviz (see instructions at https://graphviz.gitlab.io/download/) for plot_model/model_to_dot to work.\n"
     ]
    }
   ],
   "source": [
    "from keras.utils.vis_utils import plot_model\n",
    "plot_model(model, to_file='model_plot.png', show_shapes=True, show_layer_names=True)"
   ]
  },
  {
   "cell_type": "code",
   "execution_count": 60,
   "metadata": {},
   "outputs": [
    {
     "name": "stdout",
     "output_type": "stream",
     "text": [
      "Epoch 1/60\n"
     ]
    },
    {
     "name": "stderr",
     "output_type": "stream",
     "text": [
      "/tmp/ipykernel_11633/4221821476.py:1: UserWarning: `Model.fit_generator` is deprecated and will be removed in a future version. Please use `Model.fit`, which supports generators.\n",
      "  history = model.fit_generator(\n"
     ]
    },
    {
     "name": "stdout",
     "output_type": "stream",
     "text": [
      "17/17 [==============================] - 19s 1s/step - loss: 0.7881 - accuracy: 0.6746 - val_loss: 2.9011 - val_accuracy: 0.5506 - lr: 0.0010\n",
      "Epoch 2/60\n",
      "17/17 [==============================] - 19s 1s/step - loss: 0.4353 - accuracy: 0.8042 - val_loss: 2.0516 - val_accuracy: 0.5787 - lr: 0.0010\n",
      "Epoch 3/60\n",
      "17/17 [==============================] - 19s 1s/step - loss: 0.3698 - accuracy: 0.8634 - val_loss: 4.2554 - val_accuracy: 0.5281 - lr: 0.0010\n",
      "Epoch 4/60\n",
      "17/17 [==============================] - 18s 1s/step - loss: 0.3293 - accuracy: 0.8648 - val_loss: 0.7522 - val_accuracy: 0.8202 - lr: 0.0010\n",
      "Epoch 5/60\n",
      "17/17 [==============================] - 18s 1s/step - loss: 0.3053 - accuracy: 0.8761 - val_loss: 1.6580 - val_accuracy: 0.6404 - lr: 0.0010\n",
      "Epoch 6/60\n",
      "17/17 [==============================] - 19s 1s/step - loss: 0.2299 - accuracy: 0.9056 - val_loss: 0.3856 - val_accuracy: 0.8876 - lr: 0.0010\n",
      "Epoch 7/60\n",
      "17/17 [==============================] - 19s 1s/step - loss: 0.2168 - accuracy: 0.9211 - val_loss: 0.3187 - val_accuracy: 0.8989 - lr: 0.0010\n",
      "Epoch 8/60\n",
      "17/17 [==============================] - 18s 1s/step - loss: 0.1779 - accuracy: 0.9211 - val_loss: 0.3826 - val_accuracy: 0.8315 - lr: 0.0010\n",
      "Epoch 9/60\n",
      "17/17 [==============================] - 19s 1s/step - loss: 0.1761 - accuracy: 0.9282 - val_loss: 0.2119 - val_accuracy: 0.9045 - lr: 0.0010\n",
      "Epoch 10/60\n",
      "17/17 [==============================] - 19s 1s/step - loss: 0.1728 - accuracy: 0.9352 - val_loss: 0.2650 - val_accuracy: 0.9213 - lr: 0.0010\n",
      "Epoch 11/60\n",
      "17/17 [==============================] - 18s 1s/step - loss: 0.1967 - accuracy: 0.9225 - val_loss: 0.3207 - val_accuracy: 0.9045 - lr: 0.0010\n",
      "Epoch 12/60\n",
      "17/17 [==============================] - 18s 1s/step - loss: 0.1822 - accuracy: 0.9197 - val_loss: 0.1178 - val_accuracy: 0.9382 - lr: 0.0010\n",
      "Epoch 13/60\n",
      "17/17 [==============================] - 19s 1s/step - loss: 0.1647 - accuracy: 0.9324 - val_loss: 0.1681 - val_accuracy: 0.9326 - lr: 0.0010\n",
      "Epoch 14/60\n",
      "17/17 [==============================] - 19s 1s/step - loss: 0.1333 - accuracy: 0.9507 - val_loss: 0.1606 - val_accuracy: 0.9494 - lr: 0.0010\n",
      "Epoch 15/60\n",
      "17/17 [==============================] - 19s 1s/step - loss: 0.1080 - accuracy: 0.9577 - val_loss: 0.2023 - val_accuracy: 0.9270 - lr: 0.0010\n",
      "Epoch 16/60\n",
      "17/17 [==============================] - 19s 1s/step - loss: 0.0943 - accuracy: 0.9648 - val_loss: 0.1648 - val_accuracy: 0.9494 - lr: 0.0010\n",
      "Epoch 17/60\n",
      "17/17 [==============================] - 19s 1s/step - loss: 0.1365 - accuracy: 0.9507 - val_loss: 0.1405 - val_accuracy: 0.9494 - lr: 0.0010\n",
      "Epoch 18/60\n",
      "17/17 [==============================] - 19s 1s/step - loss: 0.0904 - accuracy: 0.9690 - val_loss: 0.2300 - val_accuracy: 0.9382 - lr: 0.0010\n",
      "Epoch 19/60\n",
      "17/17 [==============================] - 19s 1s/step - loss: 0.1133 - accuracy: 0.9592 - val_loss: 0.2016 - val_accuracy: 0.9551 - lr: 0.0010\n",
      "Epoch 20/60\n",
      "17/17 [==============================] - 19s 1s/step - loss: 0.0773 - accuracy: 0.9690 - val_loss: 0.1465 - val_accuracy: 0.9607 - lr: 0.0010\n",
      "Epoch 21/60\n",
      "17/17 [==============================] - 18s 1s/step - loss: 0.0595 - accuracy: 0.9817 - val_loss: 0.0985 - val_accuracy: 0.9719 - lr: 0.0010\n",
      "Epoch 22/60\n",
      "17/17 [==============================] - 19s 1s/step - loss: 0.0743 - accuracy: 0.9648 - val_loss: 0.2007 - val_accuracy: 0.9494 - lr: 0.0010\n",
      "Epoch 23/60\n",
      "17/17 [==============================] - 18s 1s/step - loss: 0.0803 - accuracy: 0.9690 - val_loss: 0.1741 - val_accuracy: 0.9607 - lr: 0.0010\n",
      "Epoch 24/60\n",
      "17/17 [==============================] - 18s 1s/step - loss: 0.0992 - accuracy: 0.9606 - val_loss: 0.1042 - val_accuracy: 0.9551 - lr: 0.0010\n",
      "Epoch 25/60\n",
      "17/17 [==============================] - 19s 1s/step - loss: 0.0767 - accuracy: 0.9676 - val_loss: 0.0797 - val_accuracy: 0.9663 - lr: 0.0010\n",
      "Epoch 26/60\n",
      "17/17 [==============================] - 21s 1s/step - loss: 0.0566 - accuracy: 0.9817 - val_loss: 0.1112 - val_accuracy: 0.9831 - lr: 0.0010\n",
      "Epoch 27/60\n",
      "17/17 [==============================] - 21s 1s/step - loss: 0.0578 - accuracy: 0.9901 - val_loss: 0.0864 - val_accuracy: 0.9831 - lr: 0.0010\n",
      "Epoch 28/60\n",
      "17/17 [==============================] - 36s 2s/step - loss: 0.0510 - accuracy: 0.9817 - val_loss: 0.1593 - val_accuracy: 0.9663 - lr: 0.0010\n",
      "Epoch 29/60\n",
      "17/17 [==============================] - 36s 2s/step - loss: 0.0388 - accuracy: 0.9859 - val_loss: 0.0803 - val_accuracy: 0.9775 - lr: 0.0010\n",
      "Epoch 30/60\n",
      "17/17 [==============================] - 36s 2s/step - loss: 0.0544 - accuracy: 0.9817 - val_loss: 0.0820 - val_accuracy: 0.9888 - lr: 0.0010\n",
      "Epoch 31/60\n",
      "17/17 [==============================] - 39s 2s/step - loss: 0.0314 - accuracy: 0.9930 - val_loss: 0.0425 - val_accuracy: 0.9831 - lr: 0.0010\n",
      "Epoch 32/60\n",
      "17/17 [==============================] - 37s 2s/step - loss: 0.0482 - accuracy: 0.9789 - val_loss: 0.0722 - val_accuracy: 0.9831 - lr: 0.0010\n",
      "Epoch 33/60\n",
      "17/17 [==============================] - 36s 2s/step - loss: 0.0319 - accuracy: 0.9930 - val_loss: 0.0658 - val_accuracy: 0.9888 - lr: 0.0010\n",
      "Epoch 34/60\n",
      "17/17 [==============================] - 35s 2s/step - loss: 0.0544 - accuracy: 0.9789 - val_loss: 0.1103 - val_accuracy: 0.9831 - lr: 0.0010\n",
      "Epoch 35/60\n",
      "17/17 [==============================] - 35s 2s/step - loss: 0.0447 - accuracy: 0.9817 - val_loss: 0.0946 - val_accuracy: 0.9663 - lr: 0.0010\n",
      "Epoch 36/60\n",
      "17/17 [==============================] - 35s 2s/step - loss: 0.0382 - accuracy: 0.9845 - val_loss: 0.0973 - val_accuracy: 0.9831 - lr: 0.0010\n",
      "Epoch 37/60\n",
      "18/17 [==============================] - ETA: 0s - loss: 0.0363 - accuracy: 0.9859\n",
      "Epoch 37: ReduceLROnPlateau reducing learning rate to 0.0005000000237487257.\n",
      "17/17 [==============================] - 36s 2s/step - loss: 0.0363 - accuracy: 0.9859 - val_loss: 0.0658 - val_accuracy: 0.9888 - lr: 0.0010\n",
      "Epoch 38/60\n",
      "17/17 [==============================] - 30s 2s/step - loss: 0.0206 - accuracy: 0.9944 - val_loss: 0.0773 - val_accuracy: 0.9888 - lr: 5.0000e-04\n",
      "Epoch 39/60\n",
      "17/17 [==============================] - 36s 2s/step - loss: 0.0303 - accuracy: 0.9901 - val_loss: 0.0875 - val_accuracy: 0.9888 - lr: 5.0000e-04\n",
      "Epoch 40/60\n",
      "17/17 [==============================] - 33s 2s/step - loss: 0.0297 - accuracy: 0.9873 - val_loss: 0.1102 - val_accuracy: 0.9831 - lr: 5.0000e-04\n",
      "Epoch 41/60\n",
      "17/17 [==============================] - 36s 2s/step - loss: 0.0355 - accuracy: 0.9901 - val_loss: 0.0750 - val_accuracy: 0.9888 - lr: 5.0000e-04\n",
      "Epoch 42/60\n",
      "17/17 [==============================] - 34s 2s/step - loss: 0.0173 - accuracy: 0.9986 - val_loss: 0.0837 - val_accuracy: 0.9888 - lr: 5.0000e-04\n",
      "Epoch 43/60\n",
      "17/17 [==============================] - 33s 2s/step - loss: 0.0205 - accuracy: 0.9944 - val_loss: 0.1033 - val_accuracy: 0.9775 - lr: 5.0000e-04\n",
      "Epoch 44/60\n",
      "18/17 [==============================] - ETA: 0s - loss: 0.0338 - accuracy: 0.9901\n",
      "Epoch 44: ReduceLROnPlateau reducing learning rate to 0.0002500000118743628.\n",
      "17/17 [==============================] - 38s 2s/step - loss: 0.0338 - accuracy: 0.9901 - val_loss: 0.1025 - val_accuracy: 0.9775 - lr: 5.0000e-04\n",
      "Epoch 45/60\n",
      "17/17 [==============================] - 36s 2s/step - loss: 0.0180 - accuracy: 0.9944 - val_loss: 0.0842 - val_accuracy: 0.9831 - lr: 2.5000e-04\n",
      "Epoch 46/60\n",
      "17/17 [==============================] - 30s 2s/step - loss: 0.0181 - accuracy: 0.9958 - val_loss: 0.0820 - val_accuracy: 0.9888 - lr: 2.5000e-04\n",
      "Epoch 47/60\n",
      "17/17 [==============================] - 18s 1s/step - loss: 0.0124 - accuracy: 0.9972 - val_loss: 0.0989 - val_accuracy: 0.9775 - lr: 2.5000e-04\n",
      "Epoch 48/60\n",
      "17/17 [==============================] - 20s 1s/step - loss: 0.0120 - accuracy: 0.9986 - val_loss: 0.0999 - val_accuracy: 0.9775 - lr: 2.5000e-04\n",
      "Epoch 49/60\n",
      "17/17 [==============================] - 39s 2s/step - loss: 0.0157 - accuracy: 0.9958 - val_loss: 0.0866 - val_accuracy: 0.9888 - lr: 2.5000e-04\n",
      "Epoch 50/60\n",
      "17/17 [==============================] - 39s 2s/step - loss: 0.0190 - accuracy: 0.9944 - val_loss: 0.1060 - val_accuracy: 0.9831 - lr: 2.5000e-04\n",
      "Epoch 51/60\n",
      "18/17 [==============================] - ETA: 0s - loss: 0.0158 - accuracy: 0.9958\n",
      "Epoch 51: ReduceLROnPlateau reducing learning rate to 0.0001250000059371814.\n"
     ]
    },
    {
     "name": "stdout",
     "output_type": "stream",
     "text": [
      "17/17 [==============================] - 37s 2s/step - loss: 0.0158 - accuracy: 0.9958 - val_loss: 0.0998 - val_accuracy: 0.9831 - lr: 2.5000e-04\n",
      "Epoch 52/60\n",
      "17/17 [==============================] - 40s 2s/step - loss: 0.0155 - accuracy: 0.9915 - val_loss: 0.1019 - val_accuracy: 0.9831 - lr: 1.2500e-04\n",
      "Epoch 53/60\n",
      "17/17 [==============================] - 25s 1s/step - loss: 0.0092 - accuracy: 0.9986 - val_loss: 0.1044 - val_accuracy: 0.9831 - lr: 1.2500e-04\n",
      "Epoch 54/60\n",
      "17/17 [==============================] - 20s 1s/step - loss: 0.0306 - accuracy: 0.9930 - val_loss: 0.1158 - val_accuracy: 0.9775 - lr: 1.2500e-04\n",
      "Epoch 55/60\n",
      "17/17 [==============================] - 39s 2s/step - loss: 0.0105 - accuracy: 0.9972 - val_loss: 0.0928 - val_accuracy: 0.9888 - lr: 1.2500e-04\n",
      "Epoch 56/60\n",
      "17/17 [==============================] - 42s 2s/step - loss: 0.0167 - accuracy: 0.9958 - val_loss: 0.0812 - val_accuracy: 0.9888 - lr: 1.2500e-04\n",
      "Epoch 57/60\n",
      "17/17 [==============================] - 42s 2s/step - loss: 0.0168 - accuracy: 0.9944 - val_loss: 0.0819 - val_accuracy: 0.9888 - lr: 1.2500e-04\n",
      "Epoch 58/60\n",
      "18/17 [==============================] - ETA: 0s - loss: 0.0107 - accuracy: 0.9972\n",
      "Epoch 58: ReduceLROnPlateau reducing learning rate to 6.25000029685907e-05.\n",
      "17/17 [==============================] - 46s 3s/step - loss: 0.0107 - accuracy: 0.9972 - val_loss: 0.0800 - val_accuracy: 0.9888 - lr: 1.2500e-04\n",
      "Epoch 59/60\n",
      "17/17 [==============================] - 19s 1s/step - loss: 0.0103 - accuracy: 0.9972 - val_loss: 0.0833 - val_accuracy: 0.9888 - lr: 6.2500e-05\n",
      "Epoch 60/60\n",
      "18/17 [==============================] - ETA: 0s - loss: 0.0175 - accuracy: 0.9930Restoring model weights from the end of the best epoch: 30.\n",
      "17/17 [==============================] - 22s 1s/step - loss: 0.0175 - accuracy: 0.9930 - val_loss: 0.0903 - val_accuracy: 0.9888 - lr: 6.2500e-05\n",
      "Epoch 60: early stopping\n"
     ]
    }
   ],
   "source": [
    "history = model.fit_generator(\n",
    "    train_datagen.flow(X_train, y_train, batch_size=batch_size),\n",
    "    validation_data=(X_valid, y_valid),\n",
    "    steps_per_epoch=len(X_train) / batch_size,\n",
    "    epochs=epochs,\n",
    "    callbacks=callbacks,\n",
    "    use_multiprocessing=True\n",
    ")"
   ]
  },
  {
   "cell_type": "code",
   "execution_count": 63,
   "metadata": {},
   "outputs": [],
   "source": [
    "#plot_model(model, to_file='chart/ck/ck_arr_class_7.png', show_shapes=True, show_layer_names=True)\n",
    "#plot_model(model, show_shapes=True, show_layer_names=True, expand_nested=True, dpi=50, to_file='model.png')"
   ]
  },
  {
   "cell_type": "code",
   "execution_count": null,
   "metadata": {},
   "outputs": [],
   "source": []
  },
  {
   "cell_type": "code",
   "execution_count": null,
   "metadata": {},
   "outputs": [],
   "source": []
  },
  {
   "cell_type": "code",
   "execution_count": 61,
   "metadata": {},
   "outputs": [
    {
     "data": {
      "image/png": "[encoded data removed]",
      "text/plain": [
       "<Figure size 576x576 with 1 Axes>"
      ]
     },
     "metadata": {
      "needs_background": "light"
     },
     "output_type": "display_data"
    }
   ],
   "source": [
    "plt.figure(figsize=(8,8))\n",
    "plt.plot(history.history['accuracy'])\n",
    "plt.plot(history.history['val_accuracy'])\n",
    "plt.title('Model Accuracy')\n",
    "plt.xlabel('Epochs')\n",
    "plt.ylabel('Accuracy')\n",
    "plt.legend(['train', 'test'], loc='upper left')\n",
    "# plt.savefig(\"chart/ck/acc_ck_arr_class_7.png\")\n",
    "# plt.savefig(\"chart/ck/acc_ck_arr_class_7.eps\",format='eps',bbox_inches='tight')\n",
    "plt.show()"
   ]
  },
  {
   "cell_type": "code",
   "execution_count": 62,
   "metadata": {},
   "outputs": [
    {
     "data": {
      "image/png": "[encoded data removed]",
      "text/plain": [
       "<Figure size 576x576 with 1 Axes>"
      ]
     },
     "metadata": {
      "needs_background": "light"
     },
     "output_type": "display_data"
    }
   ],
   "source": [
    "plt.figure(figsize=(8,8))\n",
    "plt.plot(history.history['loss'])\n",
    "plt.plot(history.history['val_loss'])\n",
    "plt.title('model Loss')\n",
    "plt.xlabel('Epochs')\n",
    "plt.ylabel('Loss')\n",
    "plt.legend(['train', 'test'], loc='upper left')\n",
    "# pyplot.savefig(\"chart/ck/loss_ck_arr_class_7.png\")\n",
    "# pyplot.savefig(\"chart/ck/loss_ck_arr_class_7.eps\",format='eps',bbox_inches='tight')\n",
    "plt.show()\n"
   ]
  },
  {
   "cell_type": "code",
   "execution_count": 30,
   "metadata": {
    "scrolled": true
   },
   "outputs": [
    {
     "ename": "AttributeError",
     "evalue": "'Sequential' object has no attribute 'predict_classes'",
     "output_type": "error",
     "traceback": [
      "\u001b[0;31m---------------------------------------------------------------------------\u001b[0m",
      "\u001b[0;31mAttributeError\u001b[0m                            Traceback (most recent call last)",
      "\u001b[0;32m/tmp/ipykernel_3924/57419958.py\u001b[0m in \u001b[0;36m<module>\u001b[0;34m\u001b[0m\n\u001b[0;32m----> 1\u001b[0;31m \u001b[0myhat_valid\u001b[0m \u001b[0;34m=\u001b[0m \u001b[0mmodel\u001b[0m\u001b[0;34m.\u001b[0m\u001b[0mpredict_classes\u001b[0m\u001b[0;34m(\u001b[0m\u001b[0mX_valid\u001b[0m\u001b[0;34m)\u001b[0m\u001b[0;34m\u001b[0m\u001b[0;34m\u001b[0m\u001b[0m\n\u001b[0m\u001b[1;32m      2\u001b[0m \u001b[0mscikitplot\u001b[0m\u001b[0;34m.\u001b[0m\u001b[0mmetrics\u001b[0m\u001b[0;34m.\u001b[0m\u001b[0mplot_confusion_matrix\u001b[0m\u001b[0;34m(\u001b[0m\u001b[0mnp\u001b[0m\u001b[0;34m.\u001b[0m\u001b[0margmax\u001b[0m\u001b[0;34m(\u001b[0m\u001b[0my_valid\u001b[0m\u001b[0;34m,\u001b[0m \u001b[0maxis\u001b[0m\u001b[0;34m=\u001b[0m\u001b[0;36m1\u001b[0m\u001b[0;34m)\u001b[0m\u001b[0;34m,\u001b[0m \u001b[0myhat_valid\u001b[0m\u001b[0;34m,\u001b[0m \u001b[0mfigsize\u001b[0m\u001b[0;34m=\u001b[0m\u001b[0;34m(\u001b[0m\u001b[0;36m7\u001b[0m\u001b[0;34m,\u001b[0m\u001b[0;36m7\u001b[0m\u001b[0;34m)\u001b[0m\u001b[0;34m)\u001b[0m\u001b[0;34m\u001b[0m\u001b[0;34m\u001b[0m\u001b[0m\n\u001b[1;32m      3\u001b[0m \u001b[0mpyplot\u001b[0m\u001b[0;34m.\u001b[0m\u001b[0msavefig\u001b[0m\u001b[0;34m(\u001b[0m\u001b[0;34m\"confusion_ck_arr_class_7.png\"\u001b[0m\u001b[0;34m)\u001b[0m\u001b[0;34m\u001b[0m\u001b[0;34m\u001b[0m\u001b[0m\n\u001b[1;32m      4\u001b[0m \u001b[0;34m\u001b[0m\u001b[0m\n\u001b[1;32m      5\u001b[0m \u001b[0mprint\u001b[0m\u001b[0;34m(\u001b[0m\u001b[0;34mf'total wrong validation predictions: {np.sum(np.argmax(y_valid, axis=1) != yhat_valid)}\\n\\n'\u001b[0m\u001b[0;34m)\u001b[0m\u001b[0;34m\u001b[0m\u001b[0;34m\u001b[0m\u001b[0m\n",
      "\u001b[0;31mAttributeError\u001b[0m: 'Sequential' object has no attribute 'predict_classes'"
     ]
    }
   ],
   "source": [
    "yhat_valid = model.pred(X_valid)\n",
    "scikitplot.metrics.plot_confusion_matrix(np.argmax(y_valid, axis=1), yhat_valid, figsize=(7,7))\n",
    "pyplot.savefig(\"confusion_ck_arr_class_7.png\")\n",
    "\n",
    "print(f'total wrong validation predictions: {np.sum(np.argmax(y_valid, axis=1) != yhat_valid)}\\n\\n')\n",
    "print(classification_report(np.argmax(y_valid, axis=1), yhat_valid))"
   ]
  },
  {
   "cell_type": "code",
   "execution_count": 31,
   "metadata": {
    "scrolled": false
   },
   "outputs": [
    {
     "name": "stdout",
     "output_type": "stream",
     "text": [
      "7/7 [==============================] - 1s 113ms/step - loss: 0.5499 - accuracy: 0.8832\n",
      "Accuracy: 0.8832487463951111\n"
     ]
    },
    {
     "ename": "NameError",
     "evalue": "name 'yhat_valid' is not defined",
     "output_type": "error",
     "traceback": [
      "\u001b[0;31m---------------------------------------------------------------------------\u001b[0m",
      "\u001b[0;31mNameError\u001b[0m                                 Traceback (most recent call last)",
      "\u001b[0;32m/tmp/ipykernel_3924/469390679.py\u001b[0m in \u001b[0;36m<module>\u001b[0;34m\u001b[0m\n\u001b[1;32m      4\u001b[0m \u001b[0;32mfrom\u001b[0m \u001b[0msklearn\u001b[0m\u001b[0;34m.\u001b[0m\u001b[0mmetrics\u001b[0m \u001b[0;32mimport\u001b[0m \u001b[0mroc_auc_score\u001b[0m\u001b[0;34m\u001b[0m\u001b[0;34m\u001b[0m\u001b[0m\n\u001b[1;32m      5\u001b[0m \u001b[0;32mfrom\u001b[0m \u001b[0msklearn\u001b[0m \u001b[0;32mimport\u001b[0m \u001b[0mmetrics\u001b[0m\u001b[0;34m\u001b[0m\u001b[0;34m\u001b[0m\u001b[0m\n\u001b[0;32m----> 6\u001b[0;31m \u001b[0mfpr\u001b[0m\u001b[0;34m,\u001b[0m \u001b[0mtpr\u001b[0m\u001b[0;34m,\u001b[0m \u001b[0mthresholds\u001b[0m \u001b[0;34m=\u001b[0m \u001b[0mmetrics\u001b[0m\u001b[0;34m.\u001b[0m\u001b[0mroc_curve\u001b[0m\u001b[0;34m(\u001b[0m\u001b[0mnp\u001b[0m\u001b[0;34m.\u001b[0m\u001b[0margmax\u001b[0m\u001b[0;34m(\u001b[0m\u001b[0my_valid\u001b[0m\u001b[0;34m,\u001b[0m \u001b[0maxis\u001b[0m\u001b[0;34m=\u001b[0m\u001b[0;36m1\u001b[0m\u001b[0;34m)\u001b[0m\u001b[0;34m,\u001b[0m \u001b[0myhat_valid\u001b[0m\u001b[0;34m,\u001b[0m \u001b[0mpos_label\u001b[0m\u001b[0;34m=\u001b[0m\u001b[0;36m2\u001b[0m\u001b[0;34m)\u001b[0m\u001b[0;34m\u001b[0m\u001b[0;34m\u001b[0m\u001b[0m\n\u001b[0m\u001b[1;32m      7\u001b[0m \u001b[0mauc\u001b[0m\u001b[0;34m=\u001b[0m\u001b[0mmetrics\u001b[0m\u001b[0;34m.\u001b[0m\u001b[0mauc\u001b[0m\u001b[0;34m(\u001b[0m\u001b[0mfpr\u001b[0m\u001b[0;34m,\u001b[0m \u001b[0mtpr\u001b[0m\u001b[0;34m)\u001b[0m\u001b[0;34m\u001b[0m\u001b[0;34m\u001b[0m\u001b[0m\n\u001b[1;32m      8\u001b[0m \u001b[0mprint\u001b[0m\u001b[0;34m(\u001b[0m\u001b[0;34m\" AUC = {:.2f}\"\u001b[0m\u001b[0;34m.\u001b[0m\u001b[0mformat\u001b[0m\u001b[0;34m(\u001b[0m\u001b[0mauc\u001b[0m\u001b[0;34m*\u001b[0m\u001b[0;36m100\u001b[0m\u001b[0;34m)\u001b[0m\u001b[0;34m)\u001b[0m\u001b[0;34m\u001b[0m\u001b[0;34m\u001b[0m\u001b[0m\n",
      "\u001b[0;31mNameError\u001b[0m: name 'yhat_valid' is not defined"
     ]
    }
   ],
   "source": [
    "loss, accuracy = model.evaluate(X_valid, y_valid)\n",
    "print(f\"Accuracy: {accuracy}\")\n",
    "y_pred = model.predict(X_valid)\n",
    "from sklearn.metrics import roc_auc_score\n",
    "from sklearn import metrics\n",
    "fpr, tpr, thresholds = metrics.roc_curve(np.argmax(y_valid, axis=1), yhat_valid, pos_label=2)\n",
    "auc=metrics.auc(fpr, tpr)\n",
    "print(\" AUC = {:.2f}\".format(auc*100))\n",
    "from sklearn.metrics import classification_report, confusion_matrix\n",
    "cm_test = confusion_matrix(np.argmax(y_valid, axis=1), yhat_valid)\n",
    "\n",
    "print(cm_test)\n",
    "cm_test.diagonal()/cm_test.sum(axis=1)"
   ]
  },
  {
   "cell_type": "code",
   "execution_count": null,
   "metadata": {},
   "outputs": [],
   "source": []
  },
  {
   "cell_type": "markdown",
   "metadata": {},
   "source": [
    "### storing the model in json"
   ]
  },
  {
   "cell_type": "code",
   "execution_count": 63,
   "metadata": {},
   "outputs": [
    {
     "name": "stdout",
     "output_type": "stream",
     "text": [
      "6/6 - 2s - loss: 0.0820 - accuracy: 0.9888 - 2s/epoch - 254ms/step\n"
     ]
    }
   ],
   "source": [
    "from keras.models import model_from_json\n",
    "\n",
    "# serialize model to json\n",
    "json_model = model.to_json()\n",
    "\n",
    "#save the model architecture to JSON file\n",
    "with open('cnnsentiment_model2.json', 'w') as json_file:\n",
    "    json_file.write(json_model)\n",
    "\n",
    "#saving the weights of the model\n",
    "model.save_weights('cnnsentiment_weights2.h5')\n",
    "\n",
    "#Model loss and accuracy\n",
    "loss,acc = model.evaluate(X_valid, y_valid, verbose=2)"
   ]
  },
  {
   "cell_type": "code",
   "execution_count": 64,
   "metadata": {},
   "outputs": [
    {
     "name": "stdout",
     "output_type": "stream",
     "text": [
      "Model: \"sequential\"\n",
      "_________________________________________________________________\n",
      " Layer (type)                Output Shape              Param #   \n",
      "=================================================================\n",
      " conv2d (Conv2D)             (None, 48, 48, 64)        4864      \n",
      "                                                                 \n",
      " batch_normalization (BatchN  (None, 48, 48, 64)       256       \n",
      " ormalization)                                                   \n",
      "                                                                 \n",
      " conv2d_1 (Conv2D)           (None, 48, 48, 64)        102464    \n",
      "                                                                 \n",
      " batch_normalization_1 (Batc  (None, 48, 48, 64)       256       \n",
      " hNormalization)                                                 \n",
      "                                                                 \n",
      " max_pooling2d (MaxPooling2D  (None, 24, 24, 64)       0         \n",
      " )                                                               \n",
      "                                                                 \n",
      " dropout (Dropout)           (None, 24, 24, 64)        0         \n",
      "                                                                 \n",
      " conv2d_2 (Conv2D)           (None, 24, 24, 128)       73856     \n",
      "                                                                 \n",
      " batch_normalization_2 (Batc  (None, 24, 24, 128)      512       \n",
      " hNormalization)                                                 \n",
      "                                                                 \n",
      " conv2d_3 (Conv2D)           (None, 24, 24, 128)       147584    \n",
      "                                                                 \n",
      " batch_normalization_3 (Batc  (None, 24, 24, 128)      512       \n",
      " hNormalization)                                                 \n",
      "                                                                 \n",
      " max_pooling2d_1 (MaxPooling  (None, 12, 12, 128)      0         \n",
      " 2D)                                                             \n",
      "                                                                 \n",
      " dropout_1 (Dropout)         (None, 12, 12, 128)       0         \n",
      "                                                                 \n",
      " conv2d_4 (Conv2D)           (None, 12, 12, 256)       295168    \n",
      "                                                                 \n",
      " batch_normalization_4 (Batc  (None, 12, 12, 256)      1024      \n",
      " hNormalization)                                                 \n",
      "                                                                 \n",
      " conv2d_5 (Conv2D)           (None, 12, 12, 256)       590080    \n",
      "                                                                 \n",
      " batch_normalization_5 (Batc  (None, 12, 12, 256)      1024      \n",
      " hNormalization)                                                 \n",
      "                                                                 \n",
      " max_pooling2d_2 (MaxPooling  (None, 6, 6, 256)        0         \n",
      " 2D)                                                             \n",
      "                                                                 \n",
      " dropout_2 (Dropout)         (None, 6, 6, 256)         0         \n",
      "                                                                 \n",
      " flatten (Flatten)           (None, 9216)              0         \n",
      "                                                                 \n",
      " dense (Dense)               (None, 128)               1179776   \n",
      "                                                                 \n",
      " batch_normalization_6 (Batc  (None, 128)              512       \n",
      " hNormalization)                                                 \n",
      "                                                                 \n",
      " dropout_3 (Dropout)         (None, 128)               0         \n",
      "                                                                 \n",
      " dense_1 (Dense)             (None, 2)                 258       \n",
      "                                                                 \n",
      "=================================================================\n",
      "Total params: 2,398,146\n",
      "Trainable params: 2,396,098\n",
      "Non-trainable params: 2,048\n",
      "_________________________________________________________________\n"
     ]
    }
   ],
   "source": [
    "# loading the model\n",
    "with open('cnnsentiment_model2.json', 'r') as json_file:\n",
    "    json_savedModel= json_file.read()\n",
    "\n",
    "#load the model architecture \n",
    "model_j = tf.keras.models.model_from_json(json_savedModel)\n",
    "\n",
    "model_j.summary()"
   ]
  },
  {
   "cell_type": "code",
   "execution_count": 65,
   "metadata": {},
   "outputs": [],
   "source": [
    "model_j.load_weights('cnnsentiment_weights2.h5')"
   ]
  },
  {
   "cell_type": "code",
   "execution_count": 66,
   "metadata": {},
   "outputs": [],
   "source": [
    "#Compiling the model\n",
    "optims = [\n",
    "    optimizers.Nadam(learning_rate=0.001, beta_1=0.9, beta_2=0.999, epsilon=1e-07),\n",
    "    optimizers.Adam(0.001),\n",
    "]\n",
    "model_j.compile(loss='binary_crossentropy',\n",
    "         optimizer=optims[1],\n",
    "         metrics=['accuracy'])"
   ]
  },
  {
   "cell_type": "code",
   "execution_count": null,
   "metadata": {
    "scrolled": false
   },
   "outputs": [],
   "source": [
    "loss,acc = model_j.evaluate(X_valid, y_valid, verbose=2)"
   ]
  },
  {
   "cell_type": "code",
   "execution_count": 30,
   "metadata": {},
   "outputs": [
    {
     "ename": "NameError",
     "evalue": "name 'filters' is not defined",
     "output_type": "error",
     "traceback": [
      "\u001b[0;31m---------------------------------------------------------------------------\u001b[0m",
      "\u001b[0;31mNameError\u001b[0m                                 Traceback (most recent call last)",
      "\u001b[0;32m/tmp/ipykernel_11633/2835493395.py\u001b[0m in \u001b[0;36m<module>\u001b[0;34m\u001b[0m\n\u001b[1;32m      4\u001b[0m     \u001b[0;32mif\u001b[0m \u001b[0;34m'conv'\u001b[0m \u001b[0;32min\u001b[0m \u001b[0mlayer\u001b[0m\u001b[0;34m.\u001b[0m\u001b[0mname\u001b[0m\u001b[0;34m:\u001b[0m\u001b[0;34m\u001b[0m\u001b[0;34m\u001b[0m\u001b[0m\n\u001b[1;32m      5\u001b[0m         \u001b[0mweights\u001b[0m\u001b[0;34m,\u001b[0m \u001b[0mbias\u001b[0m\u001b[0;34m=\u001b[0m \u001b[0mlayer\u001b[0m\u001b[0;34m.\u001b[0m\u001b[0mget_weights\u001b[0m\u001b[0;34m(\u001b[0m\u001b[0;34m)\u001b[0m\u001b[0;34m\u001b[0m\u001b[0;34m\u001b[0m\u001b[0m\n\u001b[0;32m----> 6\u001b[0;31m         \u001b[0mprint\u001b[0m\u001b[0;34m(\u001b[0m\u001b[0mlayer\u001b[0m\u001b[0;34m.\u001b[0m\u001b[0mname\u001b[0m\u001b[0;34m,\u001b[0m \u001b[0mfilters\u001b[0m\u001b[0;34m.\u001b[0m\u001b[0mshape\u001b[0m\u001b[0;34m)\u001b[0m\u001b[0;34m\u001b[0m\u001b[0;34m\u001b[0m\u001b[0m\n\u001b[0m\u001b[1;32m      7\u001b[0m \u001b[0;34m\u001b[0m\u001b[0m\n\u001b[1;32m      8\u001b[0m \u001b[0;31m#         #normalize filter values between  0 and 1 for visualization\u001b[0m\u001b[0;34m\u001b[0m\u001b[0;34m\u001b[0m\u001b[0m\n",
      "\u001b[0;31mNameError\u001b[0m: name 'filters' is not defined"
     ]
    }
   ],
   "source": [
    "#Iterate thru all the layers of the model\n",
    "for layer in model_j.layers:\n",
    "#     print(layer)\n",
    "    if 'conv' in layer.name:\n",
    "        weights, bias= layer.get_weights()\n",
    "        print(layer.name, filters.shape)\n",
    "        \n",
    "#         #normalize filter values between  0 and 1 for visualization\n",
    "#         f_min, f_max = weights.min(), weights.max()\n",
    "#         filters = (weights - f_min) / (f_max - f_min)  \n",
    "#         print(filters.shape[3])\n",
    "#         filter_cnt=1\n",
    "        \n",
    "#         #plotting all the filters\n",
    "#         for i in range(filters.shape[3]):\n",
    "#             #get the filters\n",
    "#             filt=filters[:,:,:, i]\n",
    "#             #plotting each of the channel, color image RGB channels\n",
    "#             for j in range(filters.shape[0]):\n",
    "#                 ax= plt.subplot(filters.shape[3], filters.shape[0], filter_cnt  )\n",
    "#                 ax.set_xticks([])\n",
    "#                 ax.set_yticks([])\n",
    "#                 plt.imshow(filt[:,:, j])\n",
    "#                 filter_cnt+=1\n",
    "#         plt.show()"
   ]
  },
  {
   "cell_type": "markdown",
   "metadata": {},
   "source": [
    "### Visualizing Feature maps or Activation maps generated in a CNN"
   ]
  },
  {
   "cell_type": "code",
   "execution_count": null,
   "metadata": {},
   "outputs": [],
   "source": [
    "img_path='\\\\dogs-vs-cats\\\\test1\\\\137.jpg' #dog\n",
    "# Define a new Model, Input= image \n",
    "# Output= intermediate representations for all layers in the  \n",
    "# previous model after the first.\n",
    "successive_outputs = [layer.output for layer in model.layers[1:]]\n",
    "#visualization_model = Model(img_input, successive_outputs)\n",
    "visualization_model = tf.keras.models.Model(inputs = model.input, outputs = successive_outputs)\n",
    "#Load the input image\n",
    "img = load_img(img_path, target_size=(150, 150))\n",
    "\n",
    "# Convert ht image to Array of dimension (150,150,3)\n",
    "x   = img_to_array(img)                           \n",
    "x   = x.reshape((1,) + x.shape)\n",
    "\n",
    "# Rescale by 1/255\n",
    "x /= 255.0\n",
    "\n",
    "# Let's run input image through our vislauization network\n",
    "# to obtain all intermediate representations for the image.\n",
    "successive_feature_maps = visualization_model.predict(x)\n",
    "\n",
    "# Retrieve are the names of the layers, so can have them as part of our plot\n",
    "layer_names = [layer.name for layer in model.layers]\n",
    "\n",
    "for layer_name, feature_map in zip(layer_names, successive_feature_maps):\n",
    "    print(feature_map.shape)\n",
    "    if len(feature_map.shape) == 4:\n",
    "    \n",
    "    # Plot Feature maps for the conv / maxpool layers, not the fully-connected layers\n",
    "   \n",
    "        n_features = feature_map.shape[-1]  # number of features in the feature map\n",
    "        size       = feature_map.shape[ 1]  # feature map shape (1, size, size, n_features)\n",
    "    \n",
    "        # We will tile our images in this matrix\n",
    "        display_grid = np.zeros((size, size * n_features))\n",
    "    \n",
    "        # Postprocess the feature to be visually palatable\n",
    "        for i in range(n_features):\n",
    "            x  = feature_map[0, :, :, i]\n",
    "            x -= x.mean()\n",
    "            x /= x.std ()\n",
    "            x *=  64\n",
    "            x += 128\n",
    "            x  = np.clip(x, 0, 255).astype('uint8')\n",
    "            # Tile each filter into a horizontal grid\n",
    "            display_grid[:, i * size : (i + 1) * size] = x\n",
    "            \n",
    "            # Display the grid\n",
    "            scale = 20. / n_features\n",
    "            plt.figure( figsize=(scale * n_features, scale) )\n",
    "            plt.title ( layer_name )\n",
    "            plt.grid  ( False )\n",
    "            plt.imshow( display_grid, aspect='auto', cmap='viridis' )"
   ]
  },
  {
   "cell_type": "code",
   "execution_count": 46,
   "metadata": {},
   "outputs": [
    {
     "data": {
      "text/plain": [
       "1"
      ]
     },
     "execution_count": 46,
     "metadata": {},
     "output_type": "execute_result"
    }
   ],
   "source": [
    "int(model_j.predict(img_1)[0][1])"
   ]
  },
  {
   "cell_type": "code",
   "execution_count": null,
   "metadata": {},
   "outputs": [],
   "source": []
  },
  {
   "cell_type": "code",
   "execution_count": 47,
   "metadata": {},
   "outputs": [
    {
     "name": "stdout",
     "output_type": "stream",
     "text": [
      "2.3119898e-29\n",
      "1.0\n",
      "sentiment detectd: positive\n"
     ]
    }
   ],
   "source": [
    "pos=-1\n",
    "for ix, value in enumerate(model_j.predict(img_1)[0]):\n",
    "    print(value)\n",
    "    if int(value)==1:\n",
    "        pos=ix\n",
    "#     print(\"{:.2f}\".format(i))\n",
    "\n",
    "#     print(int(i))\n",
    "#     print(pos)\n",
    "    \n",
    "        if pos == 0:\n",
    "            print(\"sentiment detectd: negative\")\n",
    "\n",
    "        elif pos == 1:\n",
    "            print(\"sentiment detectd: positive\")"
   ]
  },
  {
   "cell_type": "code",
   "execution_count": 48,
   "metadata": {},
   "outputs": [],
   "source": [
    "def get_label(img):\n",
    "    \n",
    "    pos=-1\n",
    "    for ix, value in enumerate(model_j.predict(img)[0]):\n",
    "#         print(value)\n",
    "        if int(value)==1:\n",
    "            pos=ix\n",
    "    #     print(\"{:.2f}\".format(i))\n",
    "\n",
    "    #     print(int(i))\n",
    "    #     print(pos)\n",
    "\n",
    "            if pos == 0:\n",
    "                print(\"sentiment detectd: negative\")\n",
    "\n",
    "            elif pos == 1:\n",
    "                print(\"sentiment detectd: positive\")\n",
    "                \n",
    "        return int(value)"
   ]
  },
  {
   "cell_type": "code",
   "execution_count": null,
   "metadata": {},
   "outputs": [],
   "source": []
  },
  {
   "cell_type": "code",
   "execution_count": 135,
   "metadata": {},
   "outputs": [],
   "source": [
    "#testing 50 images\n",
    "import streamlit as st"
   ]
  },
  {
   "cell_type": "code",
   "execution_count": 136,
   "metadata": {},
   "outputs": [
    {
     "name": "stderr",
     "output_type": "stream",
     "text": [
      "2022-05-17 19:05:33.752 \n",
      "  \u001b[33m\u001b[1mWarning:\u001b[0m to view this Streamlit app on a browser, run it with the following\n",
      "  command:\n",
      "\n",
      "    streamlit run /home/naman/anaconda3/lib/python3.9/site-packages/ipykernel_launcher.py [ARGUMENTS]\n"
     ]
    }
   ],
   "source": [
    "st.write(1234)"
   ]
  },
  {
   "cell_type": "code",
   "execution_count": 139,
   "metadata": {},
   "outputs": [
    {
     "name": "stdout",
     "output_type": "stream",
     "text": [
      "2022-05-17 19:07:07.798 INFO    numexpr.utils: NumExpr defaulting to 8 threads.\n",
      "Usage: streamlit run [OPTIONS] TARGET [ARGS]...\n",
      "Try 'streamlit run --help' for help.\n",
      "\n",
      "Error: Streamlit requires raw Python (.py) files, not .ipynb.\n",
      "For more information, please see https://docs.streamlit.io\n"
     ]
    }
   ],
   "source": [
    "! streamlit run /home/naman/anaconda3/lib/python3.9/site-packages/ck_arr_class_7_f.ipynb"
   ]
  },
  {
   "cell_type": "code",
   "execution_count": 161,
   "metadata": {},
   "outputs": [
    {
     "name": "stdout",
     "output_type": "stream",
     "text": [
      "NA.DI3.216.tiff\n",
      "sentiment detectd: contempt\n",
      "TM.AN1.190.tiff\n",
      "sentiment detectd: contempt\n",
      "KL.FE1.174.tiff\n",
      "sentiment detectd: contempt\n",
      "NM.AN1.104.tiff\n",
      "sentiment detectd: anger\n",
      "MK.SA3.121.tiff\n",
      "sentiment detectd: contempt\n",
      "MK.AN1.125.tiff\n",
      "sentiment detectd: contempt\n",
      "KL.SA2.162.tiff\n",
      "sentiment detectd: anger\n",
      "KR.SA2.78.tiff\n",
      "sentiment detectd: anger\n",
      "TM.DI1.193.tiff\n",
      "sentiment detectd: anger\n",
      "NA.NE2.200.tiff\n",
      "sentiment detectd: anger\n",
      "KA.DI2.43.tiff\n",
      "sentiment detectd: contempt\n",
      "UY.SA3.142.tiff\n",
      "sentiment detectd: contempt\n",
      "KA.SA2.34.tiff\n",
      "sentiment detectd: contempt\n",
      "KM.DI3.22.tiff\n",
      "sentiment detectd: sadness\n",
      "KR.SU3.82.tiff\n",
      "sentiment detectd: anger\n",
      "YM.SA3.57.tiff\n",
      "sentiment detectd: anger\n",
      "NM.SA1.98.tiff\n",
      "sentiment detectd: anger\n",
      "NM.SU1.101.tiff\n",
      "sentiment detectd: anger\n",
      "UY.AN3.148.tiff\n",
      "sentiment detectd: contempt\n",
      "KM.SA5.13.tiff\n",
      "sentiment detectd: contempt\n",
      "KM.SA2.10.tiff\n",
      "sentiment detectd: contempt\n",
      "NA.NE1.199.tiff\n",
      "sentiment detectd: anger\n",
      "YM.NE2.50.tiff\n",
      "sentiment detectd: contempt\n",
      "UY.HA3.139.tiff\n",
      "sentiment detectd: contempt\n",
      "KR.NE3.73.tiff\n",
      "sentiment detectd: anger\n",
      "YM.FE1.67.tiff\n",
      "sentiment detectd: sadness\n",
      "UY.FE2.153.tiff\n",
      "sentiment detectd: contempt\n",
      "MK.HA1.116.tiff\n",
      "sentiment detectd: contempt\n",
      "KR.FE1.89.tiff\n",
      "sentiment detectd: anger\n",
      "NA.FE2.218.tiff\n",
      "sentiment detectd: contempt\n",
      "UY.DI1.149.tiff\n",
      "sentiment detectd: contempt\n",
      "NM.FE3.112.tiff\n",
      "sentiment detectd: anger\n",
      "KM.NE3.3.tiff\n",
      "sentiment detectd: contempt\n",
      "KR.HA2.75.tiff\n",
      "sentiment detectd: anger\n",
      "NM.HA3.97.tiff\n",
      "sentiment detectd: anger\n",
      "KL.NE2.156.tiff\n",
      "sentiment detectd: contempt\n",
      "KA.FE4.48.tiff\n",
      "sentiment detectd: contempt\n",
      "NA.FE1.217.tiff\n",
      "sentiment detectd: contempt\n",
      "MK.HA3.118.tiff\n",
      "sentiment detectd: contempt\n",
      "KL.NE3.157.tiff\n",
      "sentiment detectd: contempt\n",
      "KR.SA3.79.tiff\n",
      "sentiment detectd: anger\n",
      "KA.HA1.29.tiff\n",
      "sentiment detectd: contempt\n",
      "YM.NE1.49.tiff\n",
      "sentiment detectd: contempt\n",
      "YM.HA2.53.tiff\n",
      "sentiment detectd: anger\n",
      "NM.HA2.96.tiff\n",
      "sentiment detectd: anger\n",
      "NM.SU2.102.tiff\n",
      "sentiment detectd: anger\n",
      "NM.SA2.99.tiff\n",
      "sentiment detectd: anger\n",
      "KL.DI4.173.tiff\n",
      "sentiment detectd: contempt\n",
      "NM.NE2.93.tiff\n",
      "sentiment detectd: anger\n",
      "YM.AN2.62.tiff\n",
      "sentiment detectd: anger\n",
      "NA.HA1.202.tiff\n",
      "sentiment detectd: anger\n",
      "A_README_FIRST.txt\n",
      "KL.AN3.169.tiff\n",
      "sentiment detectd: contempt\n",
      "TM.HA1.180.tiff\n",
      "sentiment detectd: anger\n",
      "MK.NE2.114.tiff\n",
      "sentiment detectd: contempt\n",
      "KA.AN1.39.tiff\n",
      "sentiment detectd: contempt\n",
      "KA.NE2.27.tiff\n",
      "sentiment detectd: contempt\n",
      "KR.FE3.91.tiff\n",
      "sentiment detectd: anger\n",
      "KM.HA1.4.tiff\n",
      "sentiment detectd: contempt\n",
      "MK.SU2.123.tiff\n",
      "sentiment detectd: contempt\n",
      "TM.NE1.177.tiff\n",
      "sentiment detectd: anger\n",
      "KM.FE2.24.tiff\n",
      "sentiment detectd: contempt\n",
      "KL.SA1.161.tiff\n",
      "sentiment detectd: contempt\n",
      "UY.HA1.137.tiff\n",
      "sentiment detectd: contempt\n",
      "KL.HA1.158.tiff\n",
      "sentiment detectd: contempt\n",
      "KM.AN2.18.tiff\n",
      "sentiment detectd: contempt\n",
      "MK.SU3.124.tiff\n",
      "sentiment detectd: contempt\n",
      "NA.AN2.212.tiff\n",
      "sentiment detectd: contempt\n",
      "NA.HA3.204.tiff\n",
      "sentiment detectd: anger\n",
      "TM.DI3.195.tiff\n",
      "sentiment detectd: anger\n",
      "KL.FE2.175.tiff\n",
      "sentiment detectd: contempt\n",
      ".DS_Store\n",
      "KL.DI2.171.tiff\n",
      "sentiment detectd: contempt\n",
      "NA.SA2.206.tiff\n",
      "sentiment detectd: anger\n",
      "KM.HA4.7.tiff\n",
      "sentiment detectd: contempt\n",
      "MK.SA1.119.tiff\n",
      "sentiment detectd: contempt\n",
      "YM.FE4.70.tiff\n",
      "sentiment detectd: contempt\n",
      "TM.SA3.186.tiff\n",
      "sentiment detectd: anger\n",
      "NA.DI2.215.tiff\n",
      "sentiment detectd: contempt\n",
      "KA.HA3.31.tiff\n",
      "sentiment detectd: contempt\n",
      "TM.NE3.179.tiff\n",
      "sentiment detectd: anger\n",
      "MK.HA2.117.tiff\n",
      "sentiment detectd: contempt\n",
      "NA.NE3.201.tiff\n",
      "sentiment detectd: anger\n",
      "KM.AN1.17.tiff\n",
      "sentiment detectd: contempt\n",
      "KM.HA2.5.tiff\n",
      "sentiment detectd: contempt\n",
      "YM.HA1.52.tiff\n",
      "sentiment detectd: anger\n",
      "KM.NE2.2.tiff\n",
      "sentiment detectd: contempt\n",
      "KR.NE1.71.tiff\n",
      "sentiment detectd: anger\n",
      "NA.SA1.205.tiff\n",
      "sentiment detectd: contempt\n",
      "NA.SA3.207.tiff\n",
      "sentiment detectd: contempt\n",
      "KA.HA4.32.tiff\n",
      "sentiment detectd: contempt\n",
      "KL.SU3.166.tiff\n",
      "sentiment detectd: contempt\n",
      "NM.DI3.109.tiff\n",
      "sentiment detectd: anger\n",
      "KL.SU2.165.tiff\n",
      "sentiment detectd: contempt\n",
      "KA.NE1.26.tiff\n",
      "sentiment detectd: contempt\n",
      "KA.AN3.41.tiff\n",
      "sentiment detectd: contempt\n",
      "UY.DI2.150.tiff\n",
      "sentiment detectd: contempt\n",
      "KR.SU2.81.tiff\n",
      "sentiment detectd: anger\n",
      "KA.SU3.38.tiff\n",
      "sentiment detectd: contempt\n",
      "KA.FE3.47.tiff\n",
      "sentiment detectd: contempt\n",
      "TM.SA2.185.tiff\n",
      "sentiment detectd: anger\n",
      "TM.HA2.181.tiff\n",
      "sentiment detectd: anger\n",
      "KM.FE1.23.tiff\n",
      "sentiment detectd: contempt\n",
      "MK.DI2.129.tiff\n",
      "sentiment detectd: contempt\n",
      "KA.AN2.40.tiff\n",
      "sentiment detectd: contempt\n",
      "KM.HA3.6.tiff\n",
      "sentiment detectd: contempt\n",
      "TM.SU3.189.tiff\n",
      "sentiment detectd: anger\n",
      "KA.NE3.28.tiff\n",
      "sentiment detectd: contempt\n",
      "KL.DI3.172.tiff\n",
      "sentiment detectd: contempt\n",
      "UY.NE3.136.tiff\n",
      "sentiment detectd: contempt\n",
      "NM.NE3.94.tiff\n",
      "sentiment detectd: anger\n",
      "MK.AN2.126.tiff\n",
      "sentiment detectd: contempt\n",
      "YM.DI2.65.tiff\n",
      "sentiment detectd: sadness\n",
      "UY.HA2.138.tiff\n",
      "sentiment detectd: contempt\n",
      "YM.DI3.66.tiff\n",
      "sentiment detectd: anger\n",
      "TM.AN2.191.tiff\n",
      "sentiment detectd: contempt\n",
      "YM.SU2.59.tiff\n",
      "sentiment detectd: anger\n",
      "YM.SA1.55.tiff\n",
      "sentiment detectd: anger\n",
      "KA.SU2.37.tiff\n",
      "sentiment detectd: contempt\n",
      "KM.SU3.16.tiff\n",
      "sentiment detectd: anger\n",
      "TM.DI2.194.tiff\n",
      "sentiment detectd: anger\n",
      "UY.FE3.154.tiff\n",
      "sentiment detectd: contempt\n",
      "KR.DI1.86.tiff\n",
      "sentiment detectd: anger\n",
      "MK.FE3.133.tiff\n",
      "sentiment detectd: contempt\n",
      "MK.SU1.122.tiff\n",
      "sentiment detectd: contempt\n",
      "NA.SU2.209.tiff\n",
      "sentiment detectd: contempt\n",
      "NM.AN2.105.tiff\n",
      "sentiment detectd: anger\n",
      "NM.AN3.106.tiff\n",
      "sentiment detectd: anger\n",
      "TM.SU1.187.tiff\n",
      "sentiment detectd: anger\n",
      "MK.DI3.130.tiff\n",
      "sentiment detectd: contempt\n",
      "KR.DI3.88.tiff\n",
      "sentiment detectd: anger\n",
      "TM.FE2.197.tiff\n",
      "sentiment detectd: contempt\n",
      "TM.AN3.192.tiff\n",
      "sentiment detectd: contempt\n",
      "UY.NE2.135.tiff\n",
      "sentiment detectd: contempt\n",
      "UY.SA1.140.tiff\n",
      "sentiment detectd: contempt\n",
      "NA.SU3.210.tiff\n",
      "sentiment detectd: anger\n",
      "NM.DI1.107.tiff\n",
      "sentiment detectd: anger\n",
      "KA.FE2.46.tiff\n",
      "sentiment detectd: contempt\n",
      "UY.SU2.144.tiff\n",
      "sentiment detectd: contempt\n",
      "KM.NE1.1.tiff\n",
      "sentiment detectd: contempt\n",
      "MK.SA2.120.tiff\n",
      "sentiment detectd: contempt\n",
      "NA.FE3.219.tiff\n",
      "sentiment detectd: contempt\n",
      "KL.AN2.168.tiff\n",
      "sentiment detectd: contempt\n",
      "KA.FE1.45.tiff\n",
      "sentiment detectd: contempt\n",
      "TM.SA1.184.tiff\n",
      "sentiment detectd: anger\n",
      "KL.FE3.176.tiff\n",
      "sentiment detectd: contempt\n",
      "KM.AN3.19.tiff\n",
      "sentiment detectd: contempt\n",
      "YM.SA2.56.tiff\n",
      "sentiment detectd: anger\n",
      "KA.SA1.33.tiff\n",
      "sentiment detectd: contempt\n",
      "UY.NE1.134.tiff\n",
      "sentiment detectd: contempt\n",
      "YM.HA3.54.tiff\n",
      "sentiment detectd: anger\n",
      "TM.SU2.188.tiff\n",
      "sentiment detectd: anger\n",
      "MK.DI1.128.tiff\n",
      "sentiment detectd: contempt\n",
      "UY.AN2.147.tiff\n",
      "sentiment detectd: contempt\n",
      "TM.HA3.182.tiff\n",
      "sentiment detectd: anger\n",
      "KL.DI1.170.tiff\n",
      "sentiment detectd: contempt\n",
      "KL.SU1.164.tiff\n",
      "sentiment detectd: contempt\n",
      "UY.SU3.145.tiff\n",
      "sentiment detectd: contempt\n",
      "KA.DI3.44.tiff\n",
      "sentiment detectd: contempt\n",
      "NA.AN3.213.tiff\n",
      "sentiment detectd: contempt\n",
      "KA.DI1.42.tiff\n",
      "sentiment detectd: contempt\n",
      "KR.FE2.90.tiff\n",
      "sentiment detectd: anger\n",
      "KA.HA2.30.tiff\n",
      "sentiment detectd: contempt\n",
      "KR.HA1.74.tiff\n",
      "sentiment detectd: anger\n",
      "KM.FE3.25.tiff\n",
      "sentiment detectd: contempt\n",
      "NA.DI1.214.tiff\n",
      "sentiment detectd: contempt\n",
      "KL.SA3.163.tiff\n",
      "sentiment detectd: contempt\n",
      "NM.FE2.111.tiff\n",
      "sentiment detectd: anger\n",
      "KA.SA3.35.tiff\n",
      "sentiment detectd: contempt\n",
      "KR.AN1.83.tiff\n",
      "sentiment detectd: anger\n",
      "NM.NE1.92.tiff\n",
      "sentiment detectd: anger\n",
      "MK.NE1.113.tiff\n",
      "sentiment detectd: contempt\n",
      "NM.FE1.110.tiff\n",
      "sentiment detectd: anger\n",
      "KM.SA3.11.tiff\n",
      "sentiment detectd: contempt\n",
      "KR.NE2.72.tiff\n",
      "sentiment detectd: anger\n",
      "YM.NE3.51.tiff\n",
      "sentiment detectd: contempt\n",
      "YM.FE3.69.tiff\n",
      "sentiment detectd: contempt\n",
      "TM.NE2.178.tiff\n",
      "sentiment detectd: anger\n",
      "KR.DI2.87.tiff\n",
      "sentiment detectd: anger\n",
      "NA.AN1.211.tiff\n",
      "sentiment detectd: contempt\n",
      "KL.HA3.160.tiff\n",
      "sentiment detectd: contempt\n",
      "MK.NE3.115.tiff\n",
      "sentiment detectd: contempt\n",
      "NA.SU1.208.tiff\n",
      "sentiment detectd: contempt\n",
      "YM.AN3.63.tiff\n",
      "sentiment detectd: contempt\n",
      "MK.FE1.131.tiff\n",
      "sentiment detectd: contempt\n",
      "KR.SA1.77.tiff\n",
      "sentiment detectd: anger\n",
      "UY.DI3.151.tiff\n",
      "sentiment detectd: contempt\n",
      "KR.AN2.84.tiff\n",
      "sentiment detectd: anger\n",
      "MK.FE2.132.tiff\n",
      "sentiment detectd: contempt\n",
      "KL.AN1.167.tiff\n",
      "sentiment detectd: anger\n",
      "UY.AN1.146.tiff\n",
      "sentiment detectd: contempt\n",
      "KM.SA1.9.tiff\n",
      "sentiment detectd: contempt\n",
      "UY.SU1.143.tiff\n",
      "sentiment detectd: contempt\n",
      "YM.DI1.64.tiff\n",
      "sentiment detectd: sadness\n",
      "MK.AN3.127.tiff\n",
      "sentiment detectd: contempt\n",
      "KM.DI1.20.tiff\n"
     ]
    },
    {
     "name": "stdout",
     "output_type": "stream",
     "text": [
      "sentiment detectd: sadness\n",
      "UY.SA2.141.tiff\n",
      "sentiment detectd: contempt\n",
      "KA.SU1.36.tiff\n",
      "sentiment detectd: anger\n",
      "NA.HA2.203.tiff\n",
      "sentiment detectd: anger\n",
      "TM.FE3.198.tiff\n",
      "sentiment detectd: contempt\n",
      "YM.FE2.68.tiff\n",
      "sentiment detectd: contempt\n",
      "YM.SU3.60.tiff\n",
      "sentiment detectd: anger\n",
      "KM.SU1.14.tiff\n",
      "sentiment detectd: anger\n",
      "TM.FE1.196.tiff\n",
      "sentiment detectd: contempt\n",
      "NM.SU3.103.tiff\n",
      "sentiment detectd: anger\n",
      "YM.SU1.58.tiff\n",
      "sentiment detectd: anger\n",
      "KR.SU1.80.tiff\n",
      "sentiment detectd: anger\n",
      "KL.HA2.159.tiff\n",
      "sentiment detectd: contempt\n",
      "NM.HA1.95.tiff\n",
      "sentiment detectd: anger\n",
      "YM.AN1.61.tiff\n",
      "sentiment detectd: anger\n",
      "KM.SU2.15.tiff\n",
      "sentiment detectd: anger\n",
      "KR.AN3.85.tiff\n",
      "sentiment detectd: anger\n",
      "UY.FE1.152.tiff\n",
      "sentiment detectd: contempt\n",
      "KL.NE1.155.tiff\n",
      "sentiment detectd: contempt\n",
      "NM.SA3.100.tiff\n",
      "sentiment detectd: anger\n"
     ]
    }
   ],
   "source": [
    "for ix,img in enumerate(X_test):\n",
    "#     img=cv2.imread(\"/home/naman/Documents/jaffedbase/jaffedbase/\"+img)\n",
    "#     plt.imshow(img)\n",
    "    try:\n",
    "        print(img)\n",
    "        img = cv2.imread('/home/naman/Documents/jaffedbase/jaffedbase/'+img)\n",
    "        img = cv2.resize(img, (48,48))\n",
    "        img = img.reshape(1,48,48,3)\n",
    "        value = get_label(img)\n",
    "        if value == y_test[ix]\n",
    "    except:\n",
    "        pass\n",
    "# #     print(img)\n",
    "# #     break"
   ]
  },
  {
   "cell_type": "code",
   "execution_count": null,
   "metadata": {},
   "outputs": [],
   "source": []
  }
 ],
 "metadata": {
  "kernelspec": {
   "display_name": "Python 3",
   "language": "python",
   "name": "python3"
  },
  "language_info": {
   "codemirror_mode": {
    "name": "ipython",
    "version": 3
   },
   "file_extension": ".py",
   "mimetype": "text/x-python",
   "name": "python",
   "nbconvert_exporter": "python",
   "pygments_lexer": "ipython3",
   "version": "3.8.3"
  }
 },
 "nbformat": 4,
 "nbformat_minor": 4
}
